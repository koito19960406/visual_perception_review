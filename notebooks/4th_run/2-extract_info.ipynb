{
 "cells": [
  {
   "cell_type": "code",
   "execution_count": 1,
   "metadata": {},
   "outputs": [],
   "source": [
    "from src.features.extract_information import ExtractInformation\n",
    "from dotenv import find_dotenv, load_dotenv\n",
    "import os"
   ]
  },
  {
   "cell_type": "code",
   "execution_count": 2,
   "metadata": {},
   "outputs": [
    {
     "name": "stderr",
     "output_type": "stream",
     "text": [
      "100%|██████████| 423/423 [07:04<00:00,  1.00s/it]\n",
      "100%|██████████| 390/390 [06:29<00:00,  1.00it/s]\n"
     ]
    }
   ],
   "source": [
    "json_path = 'data/interim/qa_result_2024-02-21.json'\n",
    "citation_csv_path = \"data/processed/4th_run/citation_df.csv\"\n",
    "output_dir = 'data/processed/4th_run'\n",
    "# get api keys for openai and huggingface\n",
    "load_dotenv(find_dotenv())\n",
    "openai_api_key = os.getenv('OPENAI_API_KEY')\n",
    "\n",
    "extract_information = ExtractInformation(json_path, citation_csv_path, output_dir, openai_api_key = openai_api_key)\n",
    "extract_information()"
   ]
  },
  {
   "cell_type": "code",
   "execution_count": null,
   "metadata": {},
   "outputs": [],
   "source": []
  }
 ],
 "metadata": {
  "kernelspec": {
   "display_name": "vis_review",
   "language": "python",
   "name": "python3"
  },
  "language_info": {
   "codemirror_mode": {
    "name": "ipython",
    "version": 3
   },
   "file_extension": ".py",
   "mimetype": "text/x-python",
   "name": "python",
   "nbconvert_exporter": "python",
   "pygments_lexer": "ipython3",
   "version": "3.8.16"
  }
 },
 "nbformat": 4,
 "nbformat_minor": 2
}
