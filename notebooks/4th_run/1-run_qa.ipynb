{
 "cells": [
  {
   "cell_type": "code",
   "execution_count": 1,
   "metadata": {},
   "outputs": [
    {
     "name": "stderr",
     "output_type": "stream",
     "text": [
      "2024-02-23 16:23:04,932 - src.features.openai_gpt4 - INFO - Module loaded.\n",
      "2024-02-23 16:23:05,630 - __main__ - INFO - Module loaded.\n"
     ]
    }
   ],
   "source": [
    "from src.features.openai_gpt4 import PaperReviewer\n",
    "import os\n",
    "from dotenv import find_dotenv, load_dotenv\n",
    "import json\n",
    "import pandas as pd\n",
    "import shutil\n",
    "from src.features.util.log_util import get_logger\n",
    "logger = get_logger(__name__)\n",
    "# set level at ERROR to avoid printing too many logs\n",
    "logger.setLevel(\"ERROR\")"
   ]
  },
  {
   "cell_type": "code",
   "execution_count": 7,
   "metadata": {},
   "outputs": [],
   "source": [
    "# check the missing files in 'data/raw/all_papers' by using '/Users/koichiito/Documents/NUS PhD/Academic Matter/2023 Spring/ISM3/visual_perception_review/data/processed/3rd_run/input_df_with_title_doi_edited.xlsx'\n",
    "input_df_path = '/Users/koichiito/Documents/NUS PhD/Academic Matter/2023 Spring/ISM3/visual_perception_review/data/processed/3rd_run/input_df_with_title_doi_edited.xlsx'\n",
    "# create folder for 4th run and copy input_df_with_title_doi_edited.xlsx to the folder and rename it to input_df_with_title_doi_3rd_run.xlsx\n",
    "output_folder = '/Users/koichiito/Documents/NUS PhD/Academic Matter/2023 Spring/ISM3/visual_perception_review/data/processed/4th_run'\n",
    "os.makedirs(output_folder, exist_ok=True)\n",
    "output_df_path = os.path.join(output_folder, 'input_df_with_title_doi_3rd_run.xlsx')\n",
    "# use shutil to copy the file\n",
    "shutil.copy(input_df_path, output_df_path)\n",
    "\n",
    "# use the copied file to check the missing files\n",
    "input_df = pd.read_excel(output_df_path)\n",
    "# get a list of file names from columnn '0'\n",
    "file_names = input_df['0'].tolist()\n",
    "# get a list of file names in 'data/raw/all_papers'\n",
    "all_papers = os.listdir('data/raw/all_papers')\n",
    "# check the missing files by comparing the two lists -> sets\n",
    "missing_files = list(set(file_names) - set(all_papers))\n",
    "# get corresponding rows in the input_df and save it to output_folder\n",
    "missing_df = input_df[input_df['0'].isin(missing_files)]\n",
    "missing_df.to_excel(os.path.join(output_folder, 'missing_files.xlsx'), index=False)"
   ]
  },
  {
   "cell_type": "code",
   "execution_count": 2,
   "metadata": {},
   "outputs": [],
   "source": [
    "question_text_path = \"data/external/question_list_text_4th_run_combined.txt\"\n",
    "temp_output_path = \"data/interim/\"\n",
    "final_output_path = \"data/processed/4th_run_test/\"\n",
    "output_filename = \"qa_result_2024-02-21_test\"\n",
    "# get api keys for openai and huggingface\n",
    "load_dotenv(find_dotenv())\n",
    "openai_api_key = os.getenv('OPENAI_API_KEY')\n",
    "input_path = \"data/raw/test_papers\""
   ]
  },
  {
   "cell_type": "code",
   "execution_count": 3,
   "metadata": {},
   "outputs": [
    {
     "name": "stderr",
     "output_type": "stream",
     "text": [
      "running Q&A with papers: 100%|██████████| 3/3 [02:55<00:00, 58.49s/it]\n"
     ]
    }
   ],
   "source": [
    "# summarize texts\n",
    "reviewer = PaperReviewer(question_text_path, \n",
    "                                openai_api_key=openai_api_key)\n",
    "logger.info('Running Q&A')\n",
    "# save qa results with today's date\n",
    "# today = date.today()\n",
    "reviewer.qa_from_folder(input_path, os.path.join(temp_output_path, (output_filename + \".json\")))\n"
   ]
  },
  {
   "cell_type": "code",
   "execution_count": 2,
   "metadata": {},
   "outputs": [],
   "source": [
    "question_text_path = \"data/external/question_list_text_4th_run_combined.txt\"\n",
    "temp_output_path = \"data/interim/\"\n",
    "final_output_path = \"data/processed/4th_run/\"\n",
    "output_filename = \"qa_result_2024-02-21\"\n",
    "# get api keys for openai and huggingface\n",
    "load_dotenv(find_dotenv())\n",
    "openai_api_key = os.getenv('OPENAI_API_KEY')\n",
    "input_path = \"data/raw/all_papers\""
   ]
  },
  {
   "cell_type": "code",
   "execution_count": 3,
   "metadata": {},
   "outputs": [
    {
     "name": "stderr",
     "output_type": "stream",
     "text": [
      "running Q&A with papers:   0%|          | 0/406 [00:00<?, ?it/s]"
     ]
    },
    {
     "data": {
      "text/html": [
       "<pre style=\"white-space:pre;overflow-x:auto;line-height:normal;font-family:Menlo,'DejaVu Sans Mono',consolas,'Courier New',monospace\"></pre>\n"
      ],
      "text/plain": [
       "\u001b[?25l"
      ]
     },
     "metadata": {},
     "output_type": "display_data"
    },
    {
     "data": {
      "application/vnd.jupyter.widget-view+json": {
       "model_id": "03aface464034a0db58ac9d3bd6e97d7",
       "version_major": 2,
       "version_minor": 0
      },
      "text/plain": [
       "Output()"
      ]
     },
     "metadata": {},
     "output_type": "display_data"
    },
    {
     "data": {
      "text/html": [
       "<pre style=\"white-space:pre;overflow-x:auto;line-height:normal;font-family:Menlo,'DejaVu Sans Mono',consolas,'Courier New',monospace\">\n",
       "</pre>\n"
      ],
      "text/plain": [
       "\n",
       "\u001b[?25h"
      ]
     },
     "metadata": {},
     "output_type": "display_data"
    },
    {
     "data": {
      "text/html": [
       "<pre style=\"white-space:pre;overflow-x:auto;line-height:normal;font-family:Menlo,'DejaVu Sans Mono',consolas,'Courier New',monospace\"></pre>\n"
      ],
      "text/plain": [
       "\u001b[?25l"
      ]
     },
     "metadata": {},
     "output_type": "display_data"
    },
    {
     "data": {
      "application/vnd.jupyter.widget-view+json": {
       "model_id": "489d01b22d914b67b151b6be77855705",
       "version_major": 2,
       "version_minor": 0
      },
      "text/plain": [
       "Output()"
      ]
     },
     "metadata": {},
     "output_type": "display_data"
    },
    {
     "data": {
      "text/html": [
       "<pre style=\"white-space:pre;overflow-x:auto;line-height:normal;font-family:Menlo,'DejaVu Sans Mono',consolas,'Courier New',monospace\">\n",
       "</pre>\n"
      ],
      "text/plain": [
       "\n",
       "\u001b[?25h"
      ]
     },
     "metadata": {},
     "output_type": "display_data"
    },
    {
     "data": {
      "text/html": [
       "<pre style=\"white-space:pre;overflow-x:auto;line-height:normal;font-family:Menlo,'DejaVu Sans Mono',consolas,'Courier New',monospace\"></pre>\n"
      ],
      "text/plain": [
       "\u001b[?25l"
      ]
     },
     "metadata": {},
     "output_type": "display_data"
    },
    {
     "data": {
      "application/vnd.jupyter.widget-view+json": {
       "model_id": "0f26bd2eb0e2407e8af66c0b3cc5ac46",
       "version_major": 2,
       "version_minor": 0
      },
      "text/plain": [
       "Output()"
      ]
     },
     "metadata": {},
     "output_type": "display_data"
    },
    {
     "data": {
      "text/html": [
       "<pre style=\"white-space:pre;overflow-x:auto;line-height:normal;font-family:Menlo,'DejaVu Sans Mono',consolas,'Courier New',monospace\">\n",
       "</pre>\n"
      ],
      "text/plain": [
       "\n",
       "\u001b[?25h"
      ]
     },
     "metadata": {},
     "output_type": "display_data"
    },
    {
     "data": {
      "text/html": [
       "<pre style=\"white-space:pre;overflow-x:auto;line-height:normal;font-family:Menlo,'DejaVu Sans Mono',consolas,'Courier New',monospace\"></pre>\n"
      ],
      "text/plain": [
       "\u001b[?25l"
      ]
     },
     "metadata": {},
     "output_type": "display_data"
    },
    {
     "data": {
      "application/vnd.jupyter.widget-view+json": {
       "model_id": "c2fb2f8a02b6428499fecc59c1ba9979",
       "version_major": 2,
       "version_minor": 0
      },
      "text/plain": [
       "Output()"
      ]
     },
     "metadata": {},
     "output_type": "display_data"
    },
    {
     "data": {
      "text/html": [
       "<pre style=\"white-space:pre;overflow-x:auto;line-height:normal;font-family:Menlo,'DejaVu Sans Mono',consolas,'Courier New',monospace\">\n",
       "</pre>\n"
      ],
      "text/plain": [
       "\n",
       "\u001b[?25h"
      ]
     },
     "metadata": {},
     "output_type": "display_data"
    },
    {
     "data": {
      "text/html": [
       "<pre style=\"white-space:pre;overflow-x:auto;line-height:normal;font-family:Menlo,'DejaVu Sans Mono',consolas,'Courier New',monospace\"></pre>\n"
      ],
      "text/plain": [
       "\u001b[?25l"
      ]
     },
     "metadata": {},
     "output_type": "display_data"
    },
    {
     "data": {
      "application/vnd.jupyter.widget-view+json": {
       "model_id": "44f24387d96644dfa4cac95e42fefd3f",
       "version_major": 2,
       "version_minor": 0
      },
      "text/plain": [
       "Output()"
      ]
     },
     "metadata": {},
     "output_type": "display_data"
    },
    {
     "data": {
      "text/html": [
       "<pre style=\"white-space:pre;overflow-x:auto;line-height:normal;font-family:Menlo,'DejaVu Sans Mono',consolas,'Courier New',monospace\">\n",
       "</pre>\n"
      ],
      "text/plain": [
       "\n",
       "\u001b[?25h"
      ]
     },
     "metadata": {},
     "output_type": "display_data"
    },
    {
     "name": "stderr",
     "output_type": "stream",
     "text": [
      "running Q&A with papers: 100%|██████████| 406/406 [1:45:35<00:00, 15.60s/it]\n"
     ]
    }
   ],
   "source": [
    "# summarize texts\n",
    "reviewer = PaperReviewer(question_text_path, \n",
    "                                openai_api_key=openai_api_key)\n",
    "logger.info('Running Q&A')\n",
    "# save qa results with today's date\n",
    "# today = date.today()\n",
    "reviewer.qa_from_folder(input_path, os.path.join(temp_output_path, (output_filename + \".json\")))\n"
   ]
  }
 ],
 "metadata": {
  "kernelspec": {
   "display_name": "vis_review",
   "language": "python",
   "name": "python3"
  },
  "language_info": {
   "codemirror_mode": {
    "name": "ipython",
    "version": 3
   },
   "file_extension": ".py",
   "mimetype": "text/x-python",
   "name": "python",
   "nbconvert_exporter": "python",
   "pygments_lexer": "ipython3",
   "version": "3.8.16"
  }
 },
 "nbformat": 4,
 "nbformat_minor": 2
}
