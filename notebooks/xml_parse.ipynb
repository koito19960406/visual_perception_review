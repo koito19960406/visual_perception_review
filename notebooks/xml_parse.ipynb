{
 "cells": [
  {
   "cell_type": "code",
   "execution_count": 46,
   "metadata": {},
   "outputs": [],
   "source": [
    "from lxml import etree\n",
    "import re\n",
    "from collections import defaultdict"
   ]
  },
  {
   "cell_type": "code",
   "execution_count": null,
   "metadata": {},
   "outputs": [],
   "source": []
  },
  {
   "cell_type": "code",
   "execution_count": 47,
   "metadata": {},
   "outputs": [
    {
     "name": "stdout",
     "output_type": "stream",
     "text": [
      "Element found\n"
     ]
    }
   ],
   "source": [
    "xml_file = \"/Users/koichiito/Downloads/j.ijcard.2017.02.xml\"\n",
    "root = etree.parse(xml_file).getroot()\n",
    "__payload_type = u'full-text-retrieval-response'\n",
    "elements = root.xpath(f\"//*[translate(name(), 'FULLTEXTR', 'fulltextr')='{__payload_type}']\")\n",
    "if elements:\n",
    "    print(\"Element found\")\n",
    "else:\n",
    "    print(\"Element not found\")\n",
    "\n"
   ]
  },
  {
   "cell_type": "code",
   "execution_count": 59,
   "metadata": {},
   "outputs": [
    {
     "name": "stdout",
     "output_type": "stream",
     "text": [
      "['MicroRNAs', 'Biomarkers', 'Chronic heart failure', 'Prognostication', 'Mortality']\n"
     ]
    }
   ],
   "source": [
    "head = root.xpath(f\"//*[translate(name(), 'FULLTEXTR', 'fulltextr')='head']\")[0]\n",
    "keywords = [etree.tostring(keyword, method=\"text\", encoding=\"unicode\").replace(\"\\n\", \" \").strip() for keyword in head.xpath(\".//ce:keyword\", namespaces={\"ce\": ns[\"ce\"]})]\n",
    "print(keywords)"
   ]
  },
  {
   "cell_type": "code",
   "execution_count": 66,
   "metadata": {},
   "outputs": [
    {
     "data": {
      "text/plain": [
       "'Several studies have suggested circulating microRNAs (miRs) are associated with heart failure, but these studies were small, and limited to single miR measurements.We examined 7 miRs which were previously linked to heart failure, and tested whether their temporal expression level predicts prognosis in a prospective cohort of chronic heart failure (CHF) patients.In 2011–2013, 263 CHF patients were included. At inclusion and subsequently every 3months, we measured 7miRs. The primary endpoint (PE) comprised heart failure hospitalization, cardiovascular mortality, cardiac transplantation and LVAD implantation. Associations between temporal miR patterns and the PE were investigated by joint modelling, which combines mixed models with Cox regression.Mean age was 67±13years, 72% were men and 27% NYHA classes III–IV. We obtained 873 blood samples (median 3 [IQR 2–5] per patient). The PE was reached in 41 patients (16%) during a median follow-up of 0.9 [0.6–1.4] years. The temporal pattern of miR-22-3p was independently associated with the PE (HR [95% CI] per doubling of level: 0.64 [0.47–0.77]). The instantaneous change in level (slope of the temporal miR pattern) of miR-22-3p was also independently associated with the PE (HR [95% CI] per doubling of slope: 0.33 [0.20–0.51]). These associations remained statistically significant after adjustment for temporal patterns of NT-proBNP, Troponin T and CRP.The temporal pattern of circulating miR-22-3p contains important prognostic and independent information in CHF patients. This concept warrants further investigation in larger series with extended follow-up.'"
      ]
     },
     "execution_count": 66,
     "metadata": {},
     "output_type": "execute_result"
    }
   ],
   "source": [
    "abstract = \"\".join(head.xpath(\".//ce:abstract//ce:simple-para/text()\", namespaces={\"ce\":ns[\"ce\"]}))\n",
    "abstract"
   ]
  },
  {
   "cell_type": "code",
   "execution_count": null,
   "metadata": {},
   "outputs": [],
   "source": [
    "elements_section = elements[0].findall(\"ce:section\", namespaces={\"ce\": 'http://www.elsevier.com/xml/common/dtd'})  "
   ]
  },
  {
   "cell_type": "code",
   "execution_count": null,
   "metadata": {},
   "outputs": [
    {
     "data": {
      "text/plain": [
       "'\\n                  '"
      ]
     },
     "execution_count": 6,
     "metadata": {},
     "output_type": "execute_result"
    }
   ],
   "source": [
    "elements_section[2].text"
   ]
  },
  {
   "cell_type": "code",
   "execution_count": null,
   "metadata": {},
   "outputs": [
    {
     "data": {
      "text/plain": [
       "[<Element {http://www.elsevier.com/xml/common/dtd}section at 0x10ddca900>,\n",
       " <Element {http://www.elsevier.com/xml/common/dtd}section at 0x10de4fc80>,\n",
       " <Element {http://www.elsevier.com/xml/common/dtd}section at 0x10de4fe80>,\n",
       " <Element {http://www.elsevier.com/xml/common/dtd}section at 0x10de4fe40>,\n",
       " <Element {http://www.elsevier.com/xml/common/dtd}section at 0x11204c6c0>,\n",
       " <Element {http://www.elsevier.com/xml/common/dtd}section at 0x11204c680>]"
      ]
     },
     "execution_count": 7,
     "metadata": {},
     "output_type": "execute_result"
    }
   ],
   "source": [
    "elements_section"
   ]
  },
  {
   "cell_type": "code",
   "execution_count": 8,
   "metadata": {},
   "outputs": [
    {
     "data": {
      "text/plain": [
       "{None: 'http://www.elsevier.com/xml/svapi/article/dtd',\n",
       " 'bk': 'http://www.elsevier.com/xml/bk/dtd',\n",
       " 'cals': 'http://www.elsevier.com/xml/common/cals/dtd',\n",
       " 'ce': 'http://www.elsevier.com/xml/common/dtd',\n",
       " 'ja': 'http://www.elsevier.com/xml/ja/dtd',\n",
       " 'mml': 'http://www.w3.org/1998/Math/MathML',\n",
       " 'sa': 'http://www.elsevier.com/xml/common/struct-aff/dtd',\n",
       " 'sb': 'http://www.elsevier.com/xml/common/struct-bib/dtd',\n",
       " 'tb': 'http://www.elsevier.com/xml/common/table/dtd',\n",
       " 'xlink': 'http://www.w3.org/1999/xlink',\n",
       " 'xocs': 'http://www.elsevier.com/xml/xocs/dtd',\n",
       " 'dc': 'http://purl.org/dc/elements/1.1/',\n",
       " 'dcterms': 'http://purl.org/dc/terms/',\n",
       " 'prism': 'http://prismstandard.org/namespaces/basic/2.0/',\n",
       " 'xsi': 'http://www.w3.org/2001/XMLSchema-instance'}"
      ]
     },
     "execution_count": 8,
     "metadata": {},
     "output_type": "execute_result"
    }
   ],
   "source": [
    "ns = root.nsmap\n",
    "ns"
   ]
  },
  {
   "cell_type": "code",
   "execution_count": 9,
   "metadata": {},
   "outputs": [
    {
     "name": "stdout",
     "output_type": "stream",
     "text": [
      "10.1016/j.ijcard.2017.02.078\n"
     ]
    }
   ],
   "source": [
    "coredata = root.find(\"coredata\", namespaces={None:\"http://www.elsevier.com/xml/svapi/article/dtd\"})\n",
    "doi = coredata.find(\"prism:doi\", namespaces={\"prism\":ns[\"prism\"]}).text\n",
    "print(doi)"
   ]
  },
  {
   "cell_type": "code",
   "execution_count": 10,
   "metadata": {},
   "outputs": [
    {
     "data": {
      "text/plain": [
       "'http://www.elsevier.com/xml/svapi/article/dtd'"
      ]
     },
     "execution_count": 10,
     "metadata": {},
     "output_type": "execute_result"
    }
   ],
   "source": [
    "ns[None]"
   ]
  },
  {
   "cell_type": "code",
   "execution_count": null,
   "metadata": {},
   "outputs": [],
   "source": [
    "# find sections\n",
    "body = root.xpath(f\"//*[translate(name(), 'FULLTEXTR', 'fulltextr')='body']\")\n",
    "for i in body[0].iter():\n",
    "    print(i.text)"
   ]
  },
  {
   "cell_type": "code",
   "execution_count": 76,
   "metadata": {},
   "outputs": [
    {
     "name": "stdout",
     "output_type": "stream",
     "text": [
      "**********\n",
      "Introduction ['Contemporary treatment of chronic heart failure ((C)HF) generally aims to stabilize or at least decelerate disease progression. Adjustment of pharmacotherapy is largely based on clinical judgement and thus mostly relies on the worsening of symptoms or signs. However, in the context of the complexity of HF therapy, considerable clinical skills, as well as cooperation of the patients, are required to recognize opportunities to titrate therapies and to implement such changes intervene early and timely. Consequently, higher-risk patients may be undertreated. Blood biomarkers have the potential to monitor subtle changes in the heart that reflect and possibly predict adverse changes before they become clinically apparent or reported. The value of biomarkers, such as B-type natriuretic peptides (BNP), cardiac troponins and C-reactive protein (CRP), for risk stratification of CHF patients has already been demonstrated. Moreover, natriuretic peptide-guided HF therapy has recently been given a class IIa recommendation in US HF guidelines to achieve guideline-directed medical therapy.', \"Nevertheless, the predictive capability of the aforementioned biomarkers for worsening of CHF still leaves room for improvement. MicroRNAs (miRs) are upcoming novel biomarkers that seem promising for early diagnosis and treatment of HF. MiRs are non-coding, ~22 nucleotide long RNA sequences, which target messenger RNAs for cleavage or translational repression and thereby influence a great variety of biological processes. The stability of miRs in plasma, and consequently their reliable assessment in easily accessible samples, potentially makes them attractive biomarkers for a wide range of diseases. Studies revealing that deletion of Dicer, a gene encoding an RNase III endonuclease essential for miR processing, leads to cardiac remodelling and dilation, were the first to show involvement of miRs in HF  and to suggest that miRs might be used as biomarkers for cardiovascular diseases. Several other studies have subsequently shown associations between miRs and myocardial infarction  and HF. However, most studies pertaining to HF were performed in case-control settings and had a limited sample size. Furthermore, these studies usually assessed miRs only once. Repeated, longitudinal miR assessment in CHF patients may, however, provide insight into individual, temporal patterns and the patient's ensuing risk of disease progression. The temporal patterns of miRs in patients with known CHF have not yet been investigated.\", 'In the current prospective, observational study, we have performed frequent (up to 8), repeated measurements of multiple miRs that were previously linked to HF (miR-1254, miR-22-3p, miR-423-5p, miR-486-5p and miR-320a) or have been shown to be cardiac-enriched (miR-345-5p, miR-378a-3p) in a cohort of 263 outpatients with CHF, and have subsequently investigated the associations of the obtained temporal patterns with adverse clinical outcome during follow-up.']\n",
      "**********\n",
      "----------\n",
      "Patients ['The Serial biomarker measurements and new echocardiographic techniques in chronic heart failure patients result in tailored prediction of prognosis (Bio-SHiFT) study was designed to investigate the relationship between temporal patterns of biomarkers involved in CHF and prognosis. Bio-SHiFT is an ongoing prospective, observational study of stable outpatients with CHF, conducted in Erasmus MC, Rotterdam, The Netherlands and Medical Centre Alkmaar, The Netherlands. Patients were recruited during their regular outpatient visits and were in clinically stable condition. Patients were eligible for inclusion if aged 18years or older, capable of understanding and signing informed consent, and if CHF (including HF with preserved ejection fraction (HFPEF)) was diagnosed ≥3months ago according to the guidelines of the European Society of Cardiology (ESC). Detailed inclusion and exclusion criteria are shown in Fig. 1. The study was approved by the medical ethics committees of the participating hospitals and was conducted in accordance with the Declaration of Helsinki. Written informed consent was obtained from all patients.The study is registered in ClinicalTrials.gov, number NCT01851538. In the current paper, we have performed an analysis on the 263 patients who were enrolled during the first inclusion period between October 2011 and June 2013. Follow-up for this analysis lasted from October 2011 until November 2013.']\n",
      "----------\n",
      "----------\n",
      "Baseline assessment ['At baseline patients were evaluated by trained research physicians, who collected information on HF related symptoms including NYHA class  and performed a physical examination, including blood pressure, heart rate and body mass index. Information on aetiology of heart failure, presence of systolic dysfunction, cardiovascular risk factors, medical history and medical treatment was retrieved primarily from hospital records and was completed by anamnesis in case of ambiguities. History of myocardial infarction, percutaneous coronary intervention (PCI), coronary artery bypass grafting, valvular heart disease, atrial fibrillation or other arrhythmias, device implantation, cerebrovascular accident, diabetes mellitus, hypercholesterolemia, hypertension, and sleep apnea were defined as a clinical diagnosis of these conditions, as reported by the treating physician in the medical chart. History of chronic renal failure was defined as glomerular filtration rate less than 60mL/min/1.73m2. Alcohol consumption was defined as drinking ≥1 alcoholic consumption per day. Electrocardiography and echocardiography were performed. Data were entered into electronic case report forms. Non-fasting blood and urine samples were collected.']\n",
      "----------\n",
      "----------\n",
      "Follow-up visits [\"All patients continued routine outpatient visits during the study. Study follow-up visits were scheduled every 3months (a window of ±1month was allowed), for a maximum of 30months. For patients' convenience, study visits and routine outpatient visits were combined when possible. At each tri-monthly study visit, a short medical evaluation was performed and blood and urine samples were collected. Adverse cardiovascular events and changes in medication were recorded in electronic case report forms.\"]\n",
      "----------\n",
      "----------\n",
      "Blood sampling and miR measurement ['Blood samples were collected at baseline and at each follow-up visit, and were processed and stored locally at a temperature of −80°C within 2h after blood collection. When applicable, samples were transported to the central laboratory (Erasmus MC, Rotterdam, The Netherlands) under controlled conditions (at a temperature of −80°C), until batch analysis took place. Accordingly, results of the biomarker assays were not available to treating physicians at the time of the outpatient visits. Thus, the biomarker measurements did not lead to treatment adjustments, and all patients received usual care based on European guidelines.', \"For the purpose of the current investigation, stored plasma samples were transported under controlled conditions to ACS Biomarker, Amsterdam, The Netherlands, and seven miRs were measured in one batch: miR-1254, miR-22-3p, miR-345-5p, miR-378a-3p, miR-423-5p, miR-486-5p and miR320a. MiR-1254, miR-22-3p, miR-423-5p, miR-486-5p and miR-320a were selected because they were associated with HF in previous studies. MiR-378a-3p and miR-345-5p were selected because of their presence in cardiomyocytes. Plasma was thawed on ice and RNA isolation was performed using the TRIZOL LS reagent (Life Technology) according to the manufacturer's protocol, with a starting volume of 200μl plasma. Subsequently, 8μl of the eluate from the RNA isolation was used for the reverse transcription reaction. The transcription followed the manufacturer's protocol of the miScript Reverse Transcription Kit (Qiagen). For real-time PCR, 2μl of 10× diluted cDNA was used in a total volume of 10μll. The real-time PCR reaction was performed on a LightCycler 480 using the following program: 5min of pre-incubation at 95°C; 10s of denaturation at 95°C, 20s of annealing at 58°C and 30s of elongation at 72°C, in a total of 45 cycles. Data were analysed with LinRegPCR quantitative PCR data analysis software. MiR values were normalized using exogenous C. elegans miR-39 as a spike-in control, which was applied prior to the RNA isolation step. The forward primers used were: miR-423-5p: TGAGGGGCAGAGAGCGAGACTTT; miR-22-3p: AAGCTGCCAGTTGAAGAACTGT; miR-378a-3p: ACTGGACTTGGAGTCAGAAGG; miR-1254: CTGGAAGCTGGAGCCTGC; miR-345-5p: GCTGACTCCTAGTCC; miR-486-5p: TCCTGTACTGAGCTG; miR-320a: AAAAGCTGGGTTGAGAGGGCGA.\", 'Batch analysis of N-terminal pro B-type natriuretic peptide (NT-proBNP), high-sensitive cardiac troponin T (HsTNT) and C-reactive protein was performed in the Clinical Chemistry Laboratory of the Erasmus MC, Plasma NT–proBNP and cardiac Troponin T were analysed using electrochemiluminesence immunoassays (Roche Diagnostics, Elecsys 2010, Indianapolis, Indiana, USA), measuring concentrations ranging from 5 to 35,000ng/l and 3 to 10,000ng/l, respectively. CRP was measured using an immunoturbidimetric assay (Roche Hitachi 912 chemistry analyser, Basel, Switzerland), which measures concentrations ranging from 0.3 to 350mg/l.']\n",
      "----------\n",
      "----------\n",
      "Clinical study endpoints ['During follow-up, endpoints were recorded in the electronic case report forms by trained research physicians, and associated hospital records and discharge letters were collected. A clinical event committee blinded to the biomarker results subsequently reviewed all collected information and adjudicated primary and secondary endpoints.', 'The primary endpoint comprised the composite of cardiac death, cardiac transplantation, left ventricular assist device implantation, and hospitalization for the management of acute or worsened HF. Secondary endpoints included individual components of the primary endpoint, as well as myocardial infarction, percutaneous coronary intervention, coronary artery bypass grafting, cerebrovascular accident, and all-cause mortality.', 'Cardiac death was defined as death from myocardial infarction or other ischemic heart disease (ICD-10: I20–I25), death from other heart disease including HF (I30–I45 and I47–I52), sudden cardiac death (I46), sudden death undefined (R96) or unwitnessed or ill-described death (R98, R99). Hospitalisation for acute or worsened HF was defined as exacerbation of symptoms typical of HF, in combination with 2 of the following: BNP or NT-proBNP >3× ULN, signs of worsening HF, such as pulmonary rales, raised jugular venous pressure or peripheral oedema, increased dose or intravenous administration of diuretics, or administration of positive inotropic agents.']\n",
      "----------\n",
      "----------\n",
      "Statistical analysis ['Distributions of continuous variables, including biomarker and miR concentrations, were tested for normality using the Kolmogorov-Smirnov test. Variables with normal distributions are presented as mean±SD. Variables with non-normal distributions are presented as median and interquartile range (IQR). Categorical data are displayed as count and percentage.', 'In case of skewed distributions, continuous variables were logarithmically transformed for further analyses. Associations between temporal patterns of each separate miR and the primary endpoint were assessed using a joint modelling approach, which combines a linear mixed-effects model for the serial miR measurements with a Cox proportional hazards model for the occurrence of the primary endpoint. Results are presented as hazard ratios (HRs) per doubling of the miR concentration at any point in time, along with the corresponding 95% CIs. All analyses were adjusted for age and gender. Subsequently, additional multivariable adjustment for potential confounding variables was performed. For this purpose, associations between patient characteristics and baseline miR levels, as well as associations between patient characteristics and the primary endpoint, were identified using univariable linear- or Cox regression analyses, when appropriate. All characteristics associated with the miRs or the primary endpoint were subsequently used as covariates in the mixed-effects and Cox models used to construct the joint models. Adjustment for repeatedly assessed NYHA class was performed by entering NYHA class as a time-dependent variable into the joint model.', \"The above-described analysis assesses the predictive value of the temporal pattern of the actual miR measurements. However, additional features of the miR's trajectory may better predict the primary endpoint. Therefore, we investigated whether the instantaneous rate of change in miR (slope of the miR trajectory) is associated with the risk of the primary endpoint. Furthermore, to assess the predictive value of long-term elevation of miR levels, we investigated the associations between the area under the miRs' trajectory and the primary endpoint. This area can be considered as a weighted average of the total longitudinal profile of each patient. The results are presented as HRs per doubling of the area at any point in time, with 95% CIs.\", 'Subsequently, we assessed whether the predictive value of the temporal miR patterns was independent of temporal patterns of NT-proBNP, HsTNT and CRP. For this purpose, all individual temporal miR patterns (of miRs significantly associated with the primary endpoint), as well as NT-proBNP, HsTNT and CRP patterns, derived from the adjusted joint models were saved and subsequently entered simultaneously as time-varying covariates into an extended Cox analysis. The same approach was used to investigate the independent predictive value of the slope and the area under the curve of the temporal miR patterns associated with the primary endpoint.', 'To investigate the associations between repeated miR measurements and repeated NT-proBNP, HsTNT and CRP measurements, we used generalised estimating equations. Herewith, we examined whether the miR level at a certain time-point is associated with the level of the other biomarkers at that same time-point.', 'All analyses were performed with R Statistical Software using package JM. All tests were two-tailed and p-values<0.05 were considered statistically significant.']\n",
      "----------\n",
      "----------\n",
      "Baseline characteristics ['From October 2011 to June 2013, 263 patients were included. Mean age was 67years (SD±13), 72% were men, and 73% were in New York Heart Association (NYHA) class I or II (Table 1 ). Median baseline NT-proBNP was 139.6pmol/L (IQR 51.9–272.9), HsTNT 18.0ng/l (IQR 9.6–33.2) and CRP 2.2mg/l (IQR 0.9–4.8). Median duration of HF at inclusion was 4.6years (IQR 1.7–9.9). Associations between patient characteristics and baseline miR measurements are presented in the Supplementary table. Of note is the presence of a significant association between ischemic cardiomyopathy (ICM) and several miRs. This is further illustrated in Fig. 2. No significant associations were present with other baseline characteristics.', 'From October 2011 to June 2013, 263 patients were included. Mean age was 67years (SD±13), 72% were men, and 73% were in New York Heart Association (NYHA) class I or II (Table 1). Median baseline NT-proBNP was 139.6pmol/L (IQR 51.9–272.9), HsTNT 18.0ng/l (IQR 9.6–33.2) and CRP 2.2mg/l (IQR 0.9–4.8). Median duration of HF at inclusion was 4.6years (IQR 1.7–9.9). Associations between patient characteristics and baseline miR measurements are presented in the Supplementary table. Of note is the presence of a significant association between ischemic cardiomyopathy (ICM) and several miRs. This is further illustrated in Fig. 2. No significant associations were present with other baseline characteristics.']\n",
      "----------\n",
      "----------\n",
      "Clinical endpoints ['The primary, composite endpoint was reached by 41 patients (16%), during a median follow-up of 0.9  years: 5 patients died from a cardiovascular cause, 35 patients were re-hospitalized for worsened HF and 1 patient underwent heart transplantation. Of the 35 patients reaching the primary endpoint because of re-hospitalisation for HF, 16 patients died eventually during further follow-up, of whom 12 died from a cardiovascular cause. Overall all-cause mortality was thus 21 (8.0%).', 'Of all baseline variables, NYHA class (HR 1.98; CI 1.24–3.16 for III/IV vs I/II), baseline NT-proBNP (HR per two-fold difference of baseline NT-proBNP 1.42; CI 1.09–1.86), and baseline CRP (HR per two-fold difference of baseline CRP 1.29; CI 1.05–1.60) were independently associated with the primary endpoint. As shown in Table 2 , none of the baseline miR values were associated with the primary endpoint, or the secondary endpoint comprising HF hospitalisations only.']\n",
      "----------\n",
      "----------\n",
      "Temporal miR patterns and the primary endpoint ['During follow-up, we collected 923 blood samples, of which 885 were drawn before the occurrence of the primary endpoint (median of 3 (IQR 2–5) samples per patient). MiRs were successfully determined in 873 of these samples. The temporal pattern of miR-22-3p was inversely associated with the primary endpoint (age and gender adjusted HR per doubling of miR-22-3p level, 0.64; CI 0.47–0.77; p<0.001), i.e. higher miR-22-3p was associated with lower risk of events (Table 3 ). As described above, baseline measurements of several miRs were associated with ICM. On the other hand, NYHA class was independently associated with the primary endpoint. Therefore, the baseline variables ICM and NYHA class were added to the models. After adjustment for age, gender, NYHA class and ICM, the association between the temporal pattern of miR-22-3p and the primary endpoint remained present (HR per doubling of miR-22-3p level 0.71; CI 0.44–0.94; p=0.005). When serial NYHA class assessments were added to the model instead of baseline NYHA assessments only, the association between miR miR-22-3p and the primary endpoint also remained present (HR per doubling of miR-22-3p level, 0.52; CI 0.44–0.61; p<0.001). The temporal patterns of the other 6 miRs were not significantly associated with the primary endpoint.', 'Baseline echocardiograms were available in 72% of all patients due to logistic reasons. After correction for left ventricular ejection fraction in this subgroup, miR-22-3p remained significantly associated with the primary endpoint (HR per doubling of miR-22-3p level, 0.91; CI 0.85–0.95; p<0.001).', 'Fig. 3 shows that in the patients who reached the endpoint, miR-22-3p values declined as this endpoint approached, while in the patients who did not reach the endpoint, miR-22-3p values remained stable.']\n",
      "----------\n",
      "----------\n",
      "Slope and area under the curve of the temporal miR patterns and the primary endpoint ['The hazard ratios for the doubling of the slopes and areas under the curve of the temporal miR patterns are displayed in Table 3. For 4 of the miRs (miR-345-5p, miR-378a-3p, miR-423-5p, and miR-486-5p), slopes remained virtually constant over time, and hazard ratios were not calculable. The slope of the temporal pattern of miR-22-3p was inversely associated with the primary endpoint after multivariable adjustment (HR per doubling of miR-22-3p slope at any given time point, 0.33; CI 0.20–0.51; p<0.001), while the slopes of the patterns of miR-1254 and miR-320a were not. None of the areas under the curves of the temporal miR patterns were associated with the primary endpoint.']\n",
      "----------\n",
      "----------\n",
      "Temporal patterns of miRs, NT-proBNP, Hs-TNT and CRP combined in a multiple-marker model ['After constructing the multivariable models that corrected for age, sex, ICM and NYHA class, we proceeded to additionally adjust the association between the temporal miR-22-3p pattern and the primary endpoint for temporal patterns of the other biomarkers which were measured in this study (NT-proBNP, HsTNT and CRP). We did this by entering the multivariably adjusted temporal pattern of miR-22-3p, as well as the multivariably adjusted temporal patterns of NT-proBNP, HsTNT and CRP simultaneously into one model. We found an independent association of miR-22-3p (HR per doubling of miR-22-3p level at any given time point, 0.61; CI 0.51–0.73; p<0.001) with the primary endpoint. Temporal patterns of NT-proBNP and CRP level were also independently associated with the primary endpoint in the multiple-marker model (HRs: 1.34 (1.04–1.71) and 2.14 (1.59–2.88), respectively), while the temporal pattern of HsTNT was not (HR: 1.30 (0.91–1.84)). The slope of the temporal pattern of miR-22-3p also remained significantly associated with the primary endpoint after adjustment for the slopes of the temporal patterns of NT-proBNP, Troponin T and CRP (HR per doubling of miR-22-3p slope at any given time point, 0.55 (0.46–0.65); p<0.001).']\n",
      "----------\n",
      "----------\n",
      "Repeated miR measurements and other biomarkers ['Associations between repeatedly measured miR and repeatedly measured NT-proBNP, HsTNT and CRP, calculated using generalised estimating equations, are displayed in Table 4. Of note are the significant inverse associations between miR-345-5p and CRP (β-coefficient : −0.04  10log(mg/l) per 10log increase in miR-345-5p level; p=0.012) and miR-22-3p and HsTNT (β-coefficient : −0.01  10log(mg/l) per 10log increase in miR-22-3p level; p=0.014; as well as the borderline significant inverse association between miR-22-3p and CRP (β-coefficient : −0.02  10log (mg/l) per 10log increase in miR-22-3p level; p=0.051). No further associations between repeatedly measured miR and repeatedly measured NT-proBNP, HsTNT and CRP were found.']\n",
      "----------\n",
      "**********\n",
      "None ['In this prospective, observational cohort of CHF patients, temporal miR-22-3p patterns were inversely and independently associated with adverse outcome. The association was independent of temporal NT-proBNP, HsTNT and CRP patterns. The instant rate of change in miR-22-3p level (in terms of the slope of the temporal pattern) was also inversely associated with adverse outcome. Moreover, we found inverse associations of temporal patterns of miR-22-3p with temporal patterns of HsTNT and CRP. An additional finding of this study was the significant, inverse association between ICM and miR-1254, miR486-5p and miR-320a.', \"Our study has several strengths. Although the number of incident endpoints was limited, this is the largest study to date that has examined miRs in a prospective cohort of patients with chronic HF. NT-proBNP, HsTNT and CRP were measured concomitantly, and, in addition, frequent repeated measurements were performed during follow-up, both of the miRs and of the established blood biomarkers. Statistical models containing all these, repeatedly measured, biomarkers were constructed and modern statistical methods were applied (‘joint modelling’), which take into account the continuous, dynamic changes in biomarker patterns and thus result in less bias than simpler analyses such as delta's between two measurements. Herewith, the study expands existing evidence with regard to miRs and cardiovascular disease in several respects.\", 'MiR-22-3p has previously received attention in the cancer field; it has been implicated in the regulation of various cellular processes, including cell growth, apoptosis, motility, and the cell cycle. With regard to cardiovascular disease, fundamental experiments have demonstrated that expression of miR-22-3p is enriched in striated muscle tissues (i.e. cardiac and skeletal muscles); and miR-22-3p is thought to be required for normal cardiac remodelling in response to stresses. A recent study in miR-22 deficient mice demonstrated that miR-22 depleted hearts quickly progress to adverse cardiac remodelling and develop cardiac dilation, with increased cardiomyocyte loss and deposition of fibrotic tissue, and signs of heart failure. Another study also found that mice without miR-22 develop dilatation of myocardium more quickly. Interestingly, several animal models have shown that miR-22 may potentially serve as a therapeutic target in cardiac hypertrophy. Recently, Gupta et al found that pharmacological inhibition of miR-22 post-infarction activated cardiac autophagy, led to improved cardiac function, and inhibited cardiac remodelling in older mice. They also found that circulating miR-22 provides prognostic information in HF patients. Specifically, they demonstrated an association between higher baseline levels of circulating miR-22 and mortality in154 HF patients. Repeated measurements were not performed. In the present study, although we saw a temporal decline of miR-22-3p levels in patients with adverse clinical outcome, we could not demonstrate a significant association between higher baseline miR-22-3p and clinical outcome. The shorter follow-up duration of our study (median of approx. 1year, versus 3years follow-up in the study of Gupta et al) may have contributed to this. Furthermore, in an earlier study, Goren et al, demonstrated that elevated serum levels of miR-22-3p identify patients with systolic heart failure using 30 stable chronic systolic heart failure patients and 30 controls. This seeming discrepancy with our study could possibly be explained by differences in study design. While Goren et al focused on diagnostic properties of miR-22-3p by comparing cases and controls, we focused on prognostic value of miR-22-3p in patients with established CHF. To the best of our knowledge, other cardiovascular studies on miR-22-3p in human subjects are lacking. Altogether, our study is in line with previous fundamental experiments which demonstrated that loss of miR-22-3p leads to dilatation of myocardium and progressive HF. Our study confirms that lower levels of miR-22-3p are associated with worsening of CHF, and that miR-22-3p may complement established HF biomarkers in prognostication.', 'Previously, several studies using animal models have shown decreased levels of miR-378a-3p during cardiac remodelling  and in HF due to cardiac hypertrophy. Furthermore, a significant down-regulation of miR-378a-3p in hearts with dilated cardiomyopathy compared to non-failing control hearts has been observed. Since the presence of miR-378a-3p is required to resist ventricular remodelling during cardiac stress, it may offer therapeutic potential for the management of HF. It has been suggested, that up-regulation of miR-378a-3p could serve as a potential novel treatment for apoptosis and ischemic heart disease, since up-regulation of this miR enhanced cell viability, and inhibited apoptosis and necrosis in myocardium of rats. In the current study, we also observed a tendency towards an inverse association between the temporal pattern of miR378a-3p and the primary endpoint in univariable models. These results concur with the aforementioned studies.', 'Another miR that has previously been associated with HF, is miR-423-5p. However, in our study, there was no association between the temporal pattern of miR-423-5p and the primary endpoint. Existing studies on miR-423-5p in humans all compared single measurements in (C)HF patients with measurements in healthy controls, and imply that this miR has diagnostic value for HF. We did not evaluate the diagnostic value of miRs, but the prognostic value of serial miR measurements in patients with known CHF. Although miR-423-5p may discriminate between HF patients and healthy controls, it may lack prognostic value in patients with longstanding CHF. Earlier findings support this hypothesis. Bauters et al. serially measured serum levels of circulating miR-423-5p in 246 patients with a first anterior Q-wave myocardial infarction, at discharge and subsequently at 3months and 1year. They found no association between miR-423-5p levels and indices of left ventricular function and left ventricular remodelling, which were serially assessed during a 1year period after the index myocardial infarction, nor with B-type natriuretic peptide. They concluded that miR-423-5p is not a useful biomarker of left ventricular remodelling after myocardial infarction.', 'The selection of the miRs for the current investigation was based on previous studies, which used animal models and relatively small patient groups. Some of these studies have shown associations between miR-1254, miR-345-5p, miR-486-5p and miR-320a and heart failure. Again, these were mostly studies that compared HF patients to healthy controls. In our study, we did not find any associations between these miRs and poor outcome in CHF. Multiple other miRs, such as miR-133a , have previously been associated with HF. Serial measurements of these other miRs, which were not investigated in this study, warrant further investigation. This could lead to further improvements in CHF prognostication, as well as tailored adjustment of treatment.', 'Some aspects of this study warrant consideration. For the current investigation we only used the first round of inclusions of the ongoing Bio-SHiFT study (n=263). It should be noted that the full Bio-SHiFT cohort is designed to have sufficient statistical power to enable correction for multiple testing in case of application of modern, large-scale biomarker measurement methods. However, the current investigation examines only 7 miRs, which were chosen based on pathophysiological considerations. Thus, the current investigation was hypothesis-driven and not data-driven, rendering correction for multiple testing unnecessary in this particular case. Furthermore, with an average follow-up ~1year, the number of primary endpoints in the current investigation (n=41) was limited, and consequently so was the number of covariables that could be entered into the models. The lack of a replication population is another limitation of the study. Finally, the majority of the patient population was in NYHA functional class I or II, and thus at relatively low risk. Accordingly, the primary outcome was predominantly composed of heart failure hospitalizations. This may have hampered the prognostic information of the other miRs tested in this study. Future studies using high-risk patient populations should therefore re-investigate the prognostic information carried by repeated assessment of these miRs.', 'Remarkably, in the present study, the rate of HFPEF was very low compared to other epidemiological studies. This can most likely be attributed to the fact that in the Netherlands, most HFPEF patients are treated by the general practitioner or in secondary referral centres, while the current study was performed in two centres which were both tertiary referral centres. Potential inclusion bias is not a likely reason for the low HPEF rate, because consecutive patients were screened in both participating centres. Moreover, the number of patients on vitamin K antagonists was quite high in this study, most likely due to the high number of patients with left ventricular aneurysms and thrombi, as well as the high number of patients with atrial fibrillation.', 'In conclusion, in patients with stable CHF, the temporal pattern of circulating miR-22-3p is a strong and independent predictor of prognosis. Thus, the use of individual patterns of change of circulating miR-22-3p for CHF prognostication, as well as for tailored adjustment of treatment, warrants further investigation.', 'The following are the supplementary data related to this article. Supplemental table Associations between baseline characteristics and miRNAs measured at baseline. Supplemental table', 'Supplementary data to this article can be found online at http://dx.doi.org/10.1016/j.ijcard.2017.02.078.']\n",
      "**********\n",
      "**********\n",
      "Funding sources ['This work was supported by the Jaap Schouten Foundation and the Foreest Medical School.']\n",
      "**********\n",
      "**********\n",
      "Conflicts of interest ['MiR measurements were performed by ACS Biomarker BV. ACS Biomarker had no role in the study design, analysis and interpretation of data, writing of the manuscript, or in the decision to submit the manuscript for publication. Dr. Y. Pinto has a commercial interest in ACS Biomarker (<5%).']\n",
      "**********\n"
     ]
    }
   ],
   "source": [
    "# find sections\n",
    "# sections_element_root = root.xpath(f\"//*[translate(name(), 'FULLTEXTR', 'fulltextr')='ce:sections']\")\n",
    "# find sections\n",
    "body = root.xpath(f\"//*[translate(name(), 'FULLTEXTR', 'fulltextr')='body']\")\n",
    "# for i in sections_element_root[0].iter():\n",
    "#     print(i.text)\n",
    "\n",
    "# get a list of section \n",
    "section_element_root = body[0].find(\"ce:sections\", namespaces = {\"ce\":ns[\"ce\"]}).findall(\"ce:section\", namespaces={\"ce\": ns[\"ce\"]})  \n",
    "\n",
    "for section in section_element_root:\n",
    "    section_title = section.find(\"ce:section-title\",namespaces={\"ce\": ns[\"ce\"]}).text\n",
    "    # print(section_title.text)\n",
    "    section_below_list = section.findall(\"ce:section\",namespaces={\"ce\": ns[\"ce\"]})\n",
    "    if len(section_below_list) > 0:\n",
    "        for section_below in section_below_list:\n",
    "            print(\"-\"*10)\n",
    "            section_title = section_below.find(\"ce:section-title\",namespaces={\"ce\": ns[\"ce\"]}).text\n",
    "            paragraphs = [re.sub(r'\\[.*?\\]', '', re.sub(\" +\", \" \", etree.tostring(para, method=\"text\", encoding=\"unicode\").\\\n",
    "                replace(\"\\n\", \" \"))).replace(\" .\", \".\").strip() for para in section_below.xpath(\".//ce:para\", namespaces={\"ce\": ns[\"ce\"]})]\n",
    "            print(section_title, paragraphs)\n",
    "            print(\"-\"*10)\n",
    "    else:\n",
    "        print(\"*\"*10)\n",
    "        # section_title = section_below_list[0].find(\"ce:section\",namespaces={\"ce\": ns[\"ce\"]})\n",
    "        paragraphs = [re.sub(r'\\[.*?\\]', '', re.sub(\" +\", \" \", etree.tostring(para, method=\"text\", encoding=\"unicode\").\\\n",
    "            replace(\"\\n\", \" \"))).replace(\" .\", \".\").strip() for para in section.xpath(\".//ce:para\", namespaces={\"ce\": ns[\"ce\"]})]\n",
    "        print(section_title, paragraphs)\n",
    "        print(\"*\"*10)\n",
    "    # section_text_list = section.xpath(\".//ce:section-title/text() | .//ce:para/text()\", namespaces={\"ce\": ns[\"ce\"]})\n",
    "    # print(section_text_list)\n",
    "    # print(\"-\"*10)"
   ]
  },
  {
   "cell_type": "code",
   "execution_count": 203,
   "metadata": {},
   "outputs": [
    {
     "name": "stdout",
     "output_type": "stream",
     "text": [
      "{http://www.elsevier.com/xml/common/dtd}section\n",
      "{http://www.elsevier.com/xml/common/dtd}section\n",
      "{http://www.elsevier.com/xml/common/dtd}section\n",
      "{http://www.elsevier.com/xml/common/dtd}section\n",
      "{http://www.elsevier.com/xml/common/dtd}section\n",
      "{http://www.elsevier.com/xml/common/dtd}section\n"
     ]
    }
   ],
   "source": [
    "for i in section_element_root:\n",
    "    print(i.tag)\n",
    "    # print(\"-\"*10)"
   ]
  },
  {
   "cell_type": "code",
   "execution_count": null,
   "metadata": {},
   "outputs": [],
   "source": [
    "for i in sections_element_root[0].iter():\n",
    "    print(i.text)\n",
    "    "
   ]
  },
  {
   "cell_type": "code",
   "execution_count": null,
   "metadata": {},
   "outputs": [],
   "source": [
    "# check json file\n",
    "import json\n",
    "with open(\"data/raw/papers.json\", \"r\") as f:\n",
    "    data = json.load(f)\n",
    "\n",
    "print(data[\"10.1016/j.scs.2022.104272\"][\"null\"])"
   ]
  },
  {
   "cell_type": "code",
   "execution_count": 73,
   "metadata": {},
   "outputs": [
    {
     "data": {
      "text/plain": [
       "'Others'"
      ]
     },
     "execution_count": 73,
     "metadata": {},
     "output_type": "execute_result"
    }
   ],
   "source": [
    "def categorize_section(title):\n",
    "    \"\"\"a method to categorize titles\n",
    "\n",
    "    Args:\n",
    "        title (_type_): _description_\n",
    "    \"\"\"\n",
    "    patterns = [\n",
    "        (r'.*intro.*|.*background.*|.*problem statement.*|.*research objective.*', 'Introduction'),\n",
    "        (r'.*review.*|.*work.*', 'Literature review'),\n",
    "        (r'(?!.*result.*)(.*method.*|.*data.*|.*experiment.*|.*model.*|.*pipeline.*|.*evaluation.*|.*design.*|.*materials.*)', 'Methodology'),\n",
    "        (r'.*result.*|.*discussion.*|.*conclusion.*', 'Results')\n",
    "        ]\n",
    "\n",
    "    title = title.lower()  # convert to lowercase\n",
    "    for pattern, label in patterns:\n",
    "        if re.search(pattern, title):\n",
    "            return(label)\n",
    "    # if it doesn't get caught by any labels, then return as \"others\"\n",
    "    return(\"Others\")\n",
    "\n",
    "categorize_section(\"research statement\")"
   ]
  },
  {
   "cell_type": "code",
   "execution_count": 1,
   "metadata": {},
   "outputs": [
    {
     "name": "stdout",
     "output_type": "stream",
     "text": [
      "abc\n"
     ]
    }
   ],
   "source": [
    "string_total = \"\"\n",
    "for i in [\"a\",\"b\",\"c\"]:\n",
    "    string_total += i\n",
    "print(string_total)"
   ]
  },
  {
   "cell_type": "code",
   "execution_count": null,
   "metadata": {},
   "outputs": [],
   "source": []
  }
 ],
 "metadata": {
  "kernelspec": {
   "display_name": "vis_review",
   "language": "python",
   "name": "python3"
  },
  "language_info": {
   "codemirror_mode": {
    "name": "ipython",
    "version": 3
   },
   "file_extension": ".py",
   "mimetype": "text/x-python",
   "name": "python",
   "nbconvert_exporter": "python",
   "pygments_lexer": "ipython3",
   "version": "3.8.16"
  },
  "orig_nbformat": 4,
  "vscode": {
   "interpreter": {
    "hash": "d3375a6de8a863bfff336df6d239456016e2b76c654debd36deea2aff7f274a8"
   }
  }
 },
 "nbformat": 4,
 "nbformat_minor": 2
}
