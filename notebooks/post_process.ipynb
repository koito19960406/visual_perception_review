{
 "cells": [
  {
   "cell_type": "code",
   "execution_count": null,
   "metadata": {},
   "outputs": [],
   "source": [
    "import pandas as pd\n",
    "citations = pd.read_csv(\"data/external/asreview_dataset_all_visual-urban-perception-2023-07-09-2023-07-17.csv\")\n",
    "\n",
    "def bib_old(row):\n",
    "    author_first_name = row[\"author.lower().replace(\" \", \"\")\n",
    "    title_first_word = remove_articles_and_prepositions(title).split(\" \")[0].lower()\n",
    "    return f\"Abbreviation: {author_first_name}_{title_first_word}_{year} \\n\"\n",
    "citations[\"bib_old\"] =     "
   ]
  }
 ],
 "metadata": {
  "language_info": {
   "name": "python"
  },
  "orig_nbformat": 4
 },
 "nbformat": 4,
 "nbformat_minor": 2
}
